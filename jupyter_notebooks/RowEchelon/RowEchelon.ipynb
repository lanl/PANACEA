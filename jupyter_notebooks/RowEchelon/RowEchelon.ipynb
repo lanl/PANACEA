{
 "cells": [
  {
   "cell_type": "markdown",
   "id": "herbal-poetry",
   "metadata": {},
   "source": [
    "To detect linearly independent rows in a matrix we simply need to place a matrix in Row echelon form, we don't even need to set the diagonal to 1"
   ]
  },
  {
   "cell_type": "code",
   "execution_count": 61,
   "id": "educated-orlando",
   "metadata": {},
   "outputs": [
    {
     "name": "stdout",
     "output_type": "stream",
     "text": [
      "Mat1\n",
      "[[ 2.  3.  2.  5.]\n",
      " [ 3.  1. -3.  0.]\n",
      " [-8.  1.  3.  7.]\n",
      " [ 0.  1.  0. -9.]]\n",
      "Mat2\n",
      "[[  2.   3.   2.   5.]\n",
      " [  0.   2.   0. -18.]\n",
      " [ -8.   1.   3.   7.]\n",
      " [  0.   1.   0.  -9.]]\n",
      "Mat3\n",
      "[[ 0.  2.  0.  8.]\n",
      " [ 1.  3.  2.  1.]\n",
      " [ 0.  2.  0.  3.]\n",
      " [ 9.  5. 18.  7.]]\n",
      "Mat4\n",
      "[[  0.   1.   0.  -9.]\n",
      " [  2.   3.   2.   5.]\n",
      " [  0.   2.   0. -18.]\n",
      " [ -8.   1.   3.   7.]\n",
      " [ -2.   1.   0.  10.]]\n",
      "Mat5\n",
      "[[  2.   3.   2.   5.   0.]\n",
      " [  0.   2.   0. -18.   7.]\n",
      " [ -8.   1.   3.   7.   2.]\n",
      " [  0.   1.   0.  -9.   4.]]\n"
     ]
    }
   ],
   "source": [
    "import numpy as np\n",
    "import copy\n",
    "\n",
    "np.set_printoptions(precision=3)\n",
    "np.set_printoptions(suppress=True)\n",
    "\n",
    "mat1 = np.array([[ 2.0, 3.0,  2.0,  5.0],\n",
    "                 [ 3.0, 1.0, -3.0,  0.0],\n",
    "                 [-8.0, 1.0,  3.0,  7.0],\n",
    "                 [ 0.0, 1.0,  0.0, -9.0]])\n",
    "\n",
    "mat2 = np.array([[ 2.0,  3.0,  2.0,   5.0],\n",
    "                 [ 0.0,  2.0,  0.0, -18.0],\n",
    "                 [-8.0,  1.0,  3.0,   7.0],\n",
    "                 [ 0.0,  1.0,  0.0,  -9.0]])\n",
    "\n",
    "mat3 = np.array([[0.0, 2.0,  0.0   , 8.0],\n",
    "                 [1.0, 3.0,  2.0   , 1.0],\n",
    "                 [0.0, 2.0,  0.0   , 3.0],\n",
    "                 [9.0, 5.0, 17.9999, 7.0]])\n",
    "\n",
    "mat4 = np.array([[ 0.0, 1.0, 0.0,  -9.0],\n",
    "                 [ 2.0, 3.0, 2.0,   5.0],\n",
    "                 [ 0.0, 2.0, 0.0, -18.0],\n",
    "                 [-8.0, 1.0, 3.0,   7.0],\n",
    "                 [-2.0, 1.0, 0.0,  10.0]])\n",
    "\n",
    "mat5 = np.array([[ 2.0, 3.0, 2.0,   5.0, 0.0],\n",
    "                 [ 0.0, 2.0, 0.0, -18.0, 7.0],\n",
    "                 [-8.0, 1.0, 3.0,   7.0, 2.0],\n",
    "                 [ 0.0, 1.0, 0.0,  -9.0, 4.0]])\n",
    "print(\"Mat1\")\n",
    "print(mat1)\n",
    "print(\"Mat2\")\n",
    "print(mat2)\n",
    "print(\"Mat3\")\n",
    "print(mat3)\n",
    "print(\"Mat4\")\n",
    "print(mat4)\n",
    "print(\"Mat5\")\n",
    "print(mat5)\n"
   ]
  },
  {
   "cell_type": "code",
   "execution_count": 66,
   "id": "forced-george",
   "metadata": {},
   "outputs": [],
   "source": [
    "def rowEchelon(tmp):\n",
    "    mat = copy.deepcopy(tmp)\n",
    "    rows, cols = mat.shape\n",
    "    \n",
    "    ind_rows = np.arange(rows)\n",
    "    threshold = 1E-4\n",
    "    for i in range(0,rows):\n",
    "\n",
    "        # Before scaling check to see if the current column is 0, if it is swap with the\n",
    "        # next row that has a non zero entry              \n",
    "        \n",
    "        no_swap = False\n",
    "        if i < cols:\n",
    "            if abs(mat[i,i]) < threshold:\n",
    "                no_swap = True\n",
    "                for j in range(i+1, rows):\n",
    "                    if i < cols:\n",
    "                        if abs(mat[j,i]) > threshold:\n",
    "                            # swap rows\n",
    "                            print(\"Swapping rows %d and %d\" % (i,j))\n",
    "                            for k in range(i,cols):\n",
    "                                tmp = mat[i,k]\n",
    "                                mat[i,k] = mat[j,k]\n",
    "                                mat[j,k] = tmp\n",
    "                                # Update index\n",
    "                            tmp_ind = ind_rows[i]\n",
    "                            ind_rows[i] = ind_rows[j]\n",
    "                            ind_rows[j] = tmp_ind\n",
    "                            no_swap = False\n",
    "                            break\n",
    "        \n",
    "        col_to_scale = i\n",
    "        # If no swap it means that the whole column is 0 so we need to move to the next column\n",
    "        \n",
    "        if no_swap:\n",
    "            for c in range(i+1,cols):\n",
    "                col_to_scale = c\n",
    "                if abs(mat[i,c]) < threshold:\n",
    "                    for j in range(i+1, rows):\n",
    "                        if i < cols:\n",
    "                            if mat[j,c] != 0:\n",
    "                                # swap rows\n",
    "                                for k in range(i,cols):\n",
    "                                    tmp = mat[i,k]\n",
    "                                    mat[i,k] = mat[j,k]\n",
    "                                    mat[j,k] = tmp\n",
    "                                    # Update index\n",
    "                                tmp_ind = ind_rows[i]\n",
    "                                ind_rows[i] = ind_rows[j]\n",
    "                                ind_rows[j] = tmp_ind\n",
    "                                no_swap = False\n",
    "                                break\n",
    "                    if no_swap == False:\n",
    "                        break\n",
    "        \n",
    "        \n",
    "        for j in range(i+1,rows):\n",
    "            print(\"row %d value %e\" % (i,mat[i,i]))\n",
    "            if mat[i,col_to_scale] == 0:\n",
    "                scale = 0.0\n",
    "            else:\n",
    "                scale = mat[j,col_to_scale]/mat[i,col_to_scale]\n",
    "                \n",
    "            for k in range(i,cols):\n",
    "                mat[j,k] = mat[j,k]-scale*mat[i,k]\n",
    "\n",
    "    \n",
    "    return mat\n",
    "                "
   ]
  },
  {
   "cell_type": "code",
   "execution_count": 67,
   "id": "available-jackson",
   "metadata": {},
   "outputs": [
    {
     "name": "stdout",
     "output_type": "stream",
     "text": [
      "row 0 value 2.000000e+00\n",
      "row 0 value 2.000000e+00\n",
      "row 0 value 2.000000e+00\n",
      "row 1 value -3.500000e+00\n",
      "row 1 value -3.500000e+00\n",
      "row 2 value -1.128571e+01\n",
      "[[  2.      3.      2.      5.   ]\n",
      " [  0.     -3.5    -6.     -7.5  ]\n",
      " [  0.      0.    -11.286  -0.857]\n",
      " [  0.      0.      0.    -11.013]]\n"
     ]
    }
   ],
   "source": [
    "print(rowEchelon(mat1))"
   ]
  },
  {
   "cell_type": "code",
   "execution_count": 68,
   "id": "found-hamilton",
   "metadata": {},
   "outputs": [
    {
     "name": "stdout",
     "output_type": "stream",
     "text": [
      "row 0 value 2.000000e+00\n",
      "row 0 value 2.000000e+00\n",
      "row 0 value 2.000000e+00\n",
      "row 1 value 2.000000e+00\n",
      "row 1 value 2.000000e+00\n",
      "row 2 value 1.100000e+01\n",
      "[[  2.   3.   2.   5.]\n",
      " [  0.   2.   0. -18.]\n",
      " [  0.   0.  11. 144.]\n",
      " [  0.   0.   0.   0.]]\n"
     ]
    }
   ],
   "source": [
    "print(rowEchelon(mat2))"
   ]
  },
  {
   "cell_type": "code",
   "execution_count": 69,
   "id": "strong-workshop",
   "metadata": {},
   "outputs": [
    {
     "name": "stdout",
     "output_type": "stream",
     "text": [
      "Swapping rows 0 and 1\n",
      "row 0 value 1.000000e+00\n",
      "row 0 value 1.000000e+00\n",
      "row 0 value 1.000000e+00\n",
      "row 1 value 2.000000e+00\n",
      "row 1 value 2.000000e+00\n",
      "row 2 value 0.000000e+00\n",
      "[[ 1.  3.  2.  1.]\n",
      " [ 0.  2.  0.  8.]\n",
      " [ 0.  0.  0. -5.]\n",
      " [ 0.  0. -0.  0.]]\n"
     ]
    }
   ],
   "source": [
    "print(rowEchelon(mat3))"
   ]
  },
  {
   "cell_type": "code",
   "execution_count": 70,
   "id": "single-harmony",
   "metadata": {},
   "outputs": [
    {
     "name": "stdout",
     "output_type": "stream",
     "text": [
      "Swapping rows 0 and 1\n",
      "row 0 value 2.000000e+00\n",
      "row 0 value 2.000000e+00\n",
      "row 0 value 2.000000e+00\n",
      "row 0 value 2.000000e+00\n",
      "row 1 value 1.000000e+00\n",
      "row 1 value 1.000000e+00\n",
      "row 1 value 1.000000e+00\n",
      "Swapping rows 2 and 3\n",
      "row 2 value 1.100000e+01\n",
      "row 2 value 1.100000e+01\n",
      "Swapping rows 3 and 4\n",
      "row 3 value 2.481818e+01\n",
      "[[  2.      3.      2.      5.   ]\n",
      " [  0.      1.      0.     -9.   ]\n",
      " [  0.      0.     11.    144.   ]\n",
      " [  0.      0.      0.     24.818]\n",
      " [  0.      0.      0.      0.   ]]\n"
     ]
    }
   ],
   "source": [
    "print(rowEchelon(mat4))"
   ]
  },
  {
   "cell_type": "code",
   "execution_count": 71,
   "id": "correct-console",
   "metadata": {},
   "outputs": [
    {
     "name": "stdout",
     "output_type": "stream",
     "text": [
      "row 0 value 2.000000e+00\n",
      "row 0 value 2.000000e+00\n",
      "row 0 value 2.000000e+00\n",
      "row 1 value 2.000000e+00\n",
      "row 1 value 2.000000e+00\n",
      "row 2 value 1.100000e+01\n",
      "[[  2.    3.    2.    5.    0. ]\n",
      " [  0.    2.    0.  -18.    7. ]\n",
      " [  0.    0.   11.  144.  -43.5]\n",
      " [  0.    0.    0.    0.    0.5]]\n"
     ]
    }
   ],
   "source": [
    "print(rowEchelon(mat5))"
   ]
  }
 ],
 "metadata": {
  "kernelspec": {
   "display_name": "Python 3",
   "language": "python",
   "name": "python3"
  },
  "language_info": {
   "codemirror_mode": {
    "name": "ipython",
    "version": 3
   },
   "file_extension": ".py",
   "mimetype": "text/x-python",
   "name": "python",
   "nbconvert_exporter": "python",
   "pygments_lexer": "ipython3",
   "version": "3.8.5"
  }
 },
 "nbformat": 4,
 "nbformat_minor": 5
}
