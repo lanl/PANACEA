{
 "cells": [
  {
   "cell_type": "markdown",
   "id": "amended-vacation",
   "metadata": {},
   "source": [
    "Covariance"
   ]
  },
  {
   "cell_type": "markdown",
   "id": "physical-intake",
   "metadata": {},
   "source": [
    "$ n $ - number of points\n",
    "\n",
    "$ m $ - number of dimensions\n",
    "\n",
    "$ h, i $ - indices goes over the rows of $X$ \n",
    "\n",
    "$ j, k$ - indices used to go over the columns of $X$\n",
    "\n",
    "$ X = [ x_1, x_2, ..., x_j, ... , x_m ] $\n",
    "\n",
    "What we want is the covariance matrix of $ X^T $\n"
   ]
  },
  {
   "cell_type": "code",
   "execution_count": 34,
   "id": "sunset-harrison",
   "metadata": {},
   "outputs": [
    {
     "name": "stdout",
     "output_type": "stream",
     "text": [
      "[[0.6787 0.6948 0.7094]\n",
      " [0.7577 0.3171 0.7547]\n",
      " [0.7431 0.9502 0.276 ]\n",
      " [0.3922 0.0344 0.6797]\n",
      " [0.6555 0.4387 0.6551]\n",
      " [0.1712 0.3816 0.1626]]\n"
     ]
    }
   ],
   "source": [
    "import numpy as np\n",
    "\n",
    "n = 6\n",
    "m = 3\n",
    "\n",
    "X = np.array([ [0.6787,    0.6948,    0.7094],\n",
    "    [0.7577,    0.3171,    0.7547],\n",
    "    [0.7431,    0.9502,    0.2760],\n",
    "    [0.3922,    0.0344,    0.6797],\n",
    "    [0.6555,    0.4387,    0.6551],\n",
    "    [0.1712,    0.3816,    0.1626]\n",
    "    ])\n",
    "print(X)"
   ]
  },
  {
   "cell_type": "markdown",
   "id": "advance-cooling",
   "metadata": {},
   "source": [
    "$ \\mu_j = \\frac{1}{n} \\sum^n_{i=0} x_{ij} $"
   ]
  },
  {
   "cell_type": "code",
   "execution_count": 35,
   "id": "clear-shoulder",
   "metadata": {},
   "outputs": [
    {
     "name": "stdout",
     "output_type": "stream",
     "text": [
      "[0.5664 0.4695 0.5396]\n"
     ]
    }
   ],
   "source": [
    "Mu = np.mean(X,axis=0);\n",
    "print(Mu)\n"
   ]
  },
  {
   "cell_type": "markdown",
   "id": "respiratory-polyester",
   "metadata": {},
   "source": [
    "$ C_{jk} = \\frac{1}{n-1} \\sum^n_{i=0} (x_{ij} - \\mu_j)^T(x_{ik} - \\mu_k)$"
   ]
  },
  {
   "cell_type": "code",
   "execution_count": 36,
   "id": "alert-observer",
   "metadata": {},
   "outputs": [
    {
     "name": "stdout",
     "output_type": "stream",
     "text": [
      "[[ 0.055   0.0378  0.0297]\n",
      " [ 0.0378  0.1006 -0.0305]\n",
      " [ 0.0297 -0.0305  0.0639]]\n"
     ]
    }
   ],
   "source": [
    "np.set_printoptions(precision=4)\n",
    "C = np.matmul(np.subtract(X,Mu).transpose(),np.subtract(X,Mu)) / float(n-1)\n",
    "print(C)"
   ]
  },
  {
   "cell_type": "code",
   "execution_count": 37,
   "id": "specialized-turning",
   "metadata": {},
   "outputs": [
    {
     "name": "stdout",
     "output_type": "stream",
     "text": [
      "[[ 0.055   0.0378  0.0297]\n",
      " [ 0.0378  0.1006 -0.0305]\n",
      " [ 0.0297 -0.0305  0.0639]]\n"
     ]
    }
   ],
   "source": [
    "print(np.cov(X.transpose()))"
   ]
  },
  {
   "cell_type": "code",
   "execution_count": 38,
   "id": "balanced-inflation",
   "metadata": {},
   "outputs": [
    {
     "name": "stdout",
     "output_type": "stream",
     "text": [
      "[[ 0.055   0.0378  0.0297]\n",
      " [ 0.0378  0.1006 -0.0305]\n",
      " [ 0.0297 -0.0305  0.0639]]\n"
     ]
    }
   ],
   "source": [
    "C2 = np.zeros((m,m))\n",
    "for j in range(0,m):\n",
    "    for k in range(0,m):\n",
    "        sum_var = 0.0\n",
    "        for i in range(0,n):\n",
    "            sum_var = (X[i][j]-Mu[j])*(X[i][k]-Mu[k])+sum_var\n",
    "        C2[j][k] = (sum_var)/float(n-1)\n",
    "        \n",
    "print(C2)"
   ]
  },
  {
   "cell_type": "markdown",
   "id": "european-argument",
   "metadata": {},
   "source": [
    "If we were to expand $C_{jk} $ we could separate out different components\n",
    "\n",
    "$ C_{jk} = \\frac{1}{n-1} \\left[ \\sum^n_{i=0}{x_{ij} x_{ik}} - \\mu_j \\left(\\sum^n_{i=0} {x_{ij}} \\right) - \\left( \\sum^n_{i=0} {x_{ik}} \\right) \\mu_k  + \\mu_j \\mu_k \\right] $\n"
   ]
  },
  {
   "cell_type": "markdown",
   "id": "micro-seattle",
   "metadata": {},
   "source": [
    "\n",
    "If we substitute for the summations\n",
    "\n",
    "$ A_{jk} = \\sum^n_{i=0} {x_{ij} x_{ik}} $\n",
    "\n",
    "Where \n",
    "\n",
    "\\begin{equation} \\mathbf{A} = \\begin{matrix} \n",
    "A_{11} & A_{12} & ...    & A_{1i} & ...    & A_{1m} \\\\\n",
    "A_{21} & A_{22} & ...    & A_{2i} & ...    & A_{2m} \\\\\n",
    "\\vdots & \\vdots & \\ddots & \\vdots & ...    & \\vdots \\\\\n",
    "A_{h1} & A_{h2} & ...    & A_{hi} & ...    & A_{hm} \\\\\n",
    "\\vdots & \\vdots & ...    & \\vdots & \\ddots & \\vdots \\\\\n",
    "A_{m1} & A_{m2} & ...    & A_{mi} & ...    & A_{mm}\n",
    "\\end{matrix}\n",
    "\\end{equation}\n",
    "\n",
    "$ B_{j} = \\sum^n_{i=0} {x_{ij}} $\n",
    "\n",
    "Where \n",
    "\n",
    "$ \\mathbf{B} = \\left[ B_{1}, B_{2}, ..., B_{i}, ..., B_{m} \\right] $"
   ]
  },
  {
   "cell_type": "markdown",
   "id": "appropriate-consideration",
   "metadata": {},
   "source": [
    "We can reduce the equation to\n",
    "\n",
    "$ C_{jk} = \\frac{1}{n-1} \\left[ A_{jk} - \\mu_j B_j - B_k \\mu_k  + \\mu_j \\mu_k \\right] $"
   ]
  },
  {
   "cell_type": "code",
   "execution_count": 39,
   "id": "valued-sense",
   "metadata": {},
   "outputs": [],
   "source": [
    "A = np.zeros((m,m))\n",
    "for j in range(0,m):\n",
    "    for k in range(0,m):\n",
    "        sum_var = 0.0\n",
    "        for i in range(0,n):\n",
    "            sum_var = X[i][j]*X[i][k]+sum_var\n",
    "        A[j][k] = sum_var\n",
    "        \n",
    "B = np.zeros(m)\n",
    "for j in range(0,m):\n",
    "    sum_var = 0.0   \n",
    "    for i in range(0,n):\n",
    "        sum_var = X[i][j]+sum_var\n",
    "    B[j] = sum_var\n",
    "                   "
   ]
  },
  {
   "cell_type": "code",
   "execution_count": 40,
   "id": "substantial-chick",
   "metadata": {},
   "outputs": [
    {
     "name": "stdout",
     "output_type": "stream",
     "text": [
      "[[0.0318 0.7952 0.4984]\n",
      " [0.2769 0.1869 0.9597]\n",
      " [0.0462 0.4898 0.3404]\n",
      " [0.0971 0.4456 0.5853]\n",
      " [0.8235 0.6463 0.2238]]\n"
     ]
    }
   ],
   "source": [
    "X_new = np.array([[0.0318,    0.7952,    0.4984],\n",
    "    [0.2769,    0.1869,    0.9597],\n",
    "    [0.0462,    0.4898,    0.3404],\n",
    "    [0.0971,    0.4456,    0.5853],\n",
    "    [.8235,    0.6463,    0.2238]])\n",
    "print(X_new)\n",
    "\n",
    "n_new = 5"
   ]
  },
  {
   "cell_type": "code",
   "execution_count": 41,
   "id": "adjustable-reggae",
   "metadata": {},
   "outputs": [
    {
     "name": "stdout",
     "output_type": "stream",
     "text": [
      "[[0.6787 0.6948 0.7094]\n",
      " [0.7577 0.3171 0.7547]\n",
      " [0.7431 0.9502 0.276 ]\n",
      " [0.3922 0.0344 0.6797]\n",
      " [0.6555 0.4387 0.6551]\n",
      " [0.1712 0.3816 0.1626]\n",
      " [0.0318 0.7952 0.4984]\n",
      " [0.2769 0.1869 0.9597]\n",
      " [0.0462 0.4898 0.3404]\n",
      " [0.0971 0.4456 0.5853]\n",
      " [0.8235 0.6463 0.2238]]\n",
      "\n",
      "Covariance matrix\n",
      "[[ 0.0981  0.0173  0.0037]\n",
      " [ 0.0173  0.0717 -0.0344]\n",
      " [ 0.0037 -0.0344  0.0639]]\n"
     ]
    }
   ],
   "source": [
    "X_full = np.concatenate([X,X_new])\n",
    "print(X_full)\n",
    "print(\"\\nCovariance matrix\")\n",
    "print(np.cov(X_full.transpose()))"
   ]
  },
  {
   "cell_type": "markdown",
   "id": "spectacular-commercial",
   "metadata": {},
   "source": [
    "We will start by updating $ \\mu $ \n",
    "\n",
    "$ n' $ - is the total number of points in the new batch\n",
    "\n",
    "$ n^\\dagger $ - is the combined total number of points\n",
    "\n",
    "$ n^\\dagger = n' + n $\n",
    "\n",
    "$ \\mu_j^\\dagger = \\frac{1}{n^\\dagger} \\left( \\mu_j n + \\sum^{n'}_{i=0} x'_{ij} \\right)$"
   ]
  },
  {
   "cell_type": "code",
   "execution_count": 42,
   "id": "advanced-integrity",
   "metadata": {},
   "outputs": [
    {
     "name": "stdout",
     "output_type": "stream",
     "text": [
      "[0.4249 0.4891 0.5314]\n",
      "Should be equal to\n",
      "[0.4249 0.4891 0.5314]\n"
     ]
    }
   ],
   "source": [
    "# Step 1 calculate Mu of the new addition\n",
    "Mu_full = 1/(n+n_new) * ( np.sum(X_new,axis=0) + Mu * n )\n",
    "print(Mu_full)\n",
    "print(\"Should be equal to\")\n",
    "print(np.mean(X_full,axis=0))"
   ]
  },
  {
   "cell_type": "code",
   "execution_count": 43,
   "id": "declared-treaty",
   "metadata": {},
   "outputs": [],
   "source": [
    "n_full  = n_new + n"
   ]
  },
  {
   "cell_type": "markdown",
   "id": "bronze-interstate",
   "metadata": {},
   "source": [
    "The next step is to Adjust $ \\mathbf{A} $\n",
    "\n",
    "$ A^\\dagger_{jk} = A_{jk} +  \\sum^{n'}_{i=0} {x'_{ij} x'_{ik}} $"
   ]
  },
  {
   "cell_type": "markdown",
   "id": "governmental-bulletin",
   "metadata": {},
   "source": [
    "And $\\mathbf{B}$\n",
    "\n",
    "$ B^\\dagger_{j} = B_j + \\sum^{n'}_{i=0} x'_{ij} $"
   ]
  },
  {
   "cell_type": "code",
   "execution_count": 50,
   "id": "talented-variety",
   "metadata": {},
   "outputs": [],
   "source": [
    "A_full = np.zeros((m,m))\n",
    "for j in range(0,m):\n",
    "    for k in range(0,m):\n",
    "        sum_var = 0.0\n",
    "        for i in range(0,n_new):\n",
    "            sum_var = X_new[i][j]*X_new[i][k]+sum_var\n",
    "        A_full[j][k] = A[j][k] + sum_var\n",
    "        \n",
    "B_full = np.zeros(m)\n",
    "for j in range(0,m):\n",
    "    sum_var = 0.0   \n",
    "    for i in range(0,n_new):\n",
    "        sum_var = X_new[i][j]+sum_var\n",
    "    B_full[j] = B[j] + sum_var"
   ]
  },
  {
   "cell_type": "code",
   "execution_count": 53,
   "id": "automatic-enemy",
   "metadata": {},
   "outputs": [
    {
     "name": "stdout",
     "output_type": "stream",
     "text": [
      "[[ 0.0981  0.0173  0.0037]\n",
      " [ 0.0173  0.0717 -0.0344]\n",
      " [ 0.0037 -0.0344  0.0639]]\n"
     ]
    }
   ],
   "source": [
    "# Now to calculate the new covariance matrix\n",
    "\n",
    "C_full = np.zeros((m,m))\n",
    "for j in range(0,m):\n",
    "    for k in range(0,m):\n",
    "        C_full[j,k] = 1.0/(n_full-1) * ( A_full[j,k] - Mu_full[j]*B_full[k] - B_full[k]*Mu_full[j]+Mu_full[j]*Mu_full[k]*n_full)\n",
    "print(C_full)"
   ]
  }
 ],
 "metadata": {
  "kernelspec": {
   "display_name": "Python 3",
   "language": "python",
   "name": "python3"
  },
  "language_info": {
   "codemirror_mode": {
    "name": "ipython",
    "version": 3
   },
   "file_extension": ".py",
   "mimetype": "text/x-python",
   "name": "python",
   "nbconvert_exporter": "python",
   "pygments_lexer": "ipython3",
   "version": "3.8.5"
  }
 },
 "nbformat": 4,
 "nbformat_minor": 5
}
