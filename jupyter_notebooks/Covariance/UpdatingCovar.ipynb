{
 "cells": [
  {
   "cell_type": "markdown",
   "id": "amended-vacation",
   "metadata": {},
   "source": [
    "Covariance Non Trivial Example"
   ]
  },
  {
   "cell_type": "markdown",
   "id": "physical-intake",
   "metadata": {},
   "source": [
    "$ n $ - number of points\n",
    "\n",
    "$ m $ - number of dimensions\n",
    "\n",
    "$ h, i $ - indices goes over the rows of $X$ \n",
    "\n",
    "$ j, k$ - indices used to go over the columns of $X$\n",
    "\n",
    "$ X = [ x_1, x_2, ..., x_j, ... , x_m ] $\n",
    "\n",
    "What we want is the covariance matrix of $ X^T $\n"
   ]
  },
  {
   "cell_type": "markdown",
   "id": "advance-cooling",
   "metadata": {},
   "source": [
    "$$ \\mu_j = \\frac{1}{n} \\sum^n_{i=0} x_{ij} $$"
   ]
  },
  {
   "cell_type": "markdown",
   "id": "respiratory-polyester",
   "metadata": {},
   "source": [
    "$$ C_{jk} = \\frac{1}{n-1} \\sum^n_{i=0} (x_{ij} - \\mu_j)^T(x_{ik} - \\mu_k)$$"
   ]
  },
  {
   "cell_type": "markdown",
   "id": "european-argument",
   "metadata": {},
   "source": [
    "If we were to expand $C_{jk} $ we could separate out different components\n",
    "\n",
    "$$ C_{jk} = \\frac{1}{n-1} \\left[ \\sum^n_{i=0}{x_{ij} x_{ik}} - \\mu_j \\left(\\sum^n_{i=0} {x_{ik}} \\right) - \\left( \\sum^n_{i=0} {x_{ij}} \\right) \\mu_k  + n \\mu_j \\mu_k \\right] $$\n"
   ]
  },
  {
   "cell_type": "markdown",
   "id": "aquatic-south",
   "metadata": {},
   "source": [
    "$$ C_{jk} = \\frac{1}{n-1} \\left[\\sum_{i=0}^n x_{ij}x_{ji} - \\mu_j ( n \\mu_k ) - ( n \\mu_j ) \\mu_{k} + n \\mu_{j} \\mu_{k} \\right] $$"
   ]
  },
  {
   "cell_type": "markdown",
   "id": "motivated-compilation",
   "metadata": {},
   "source": [
    "$$ C_{ij} = \\frac{1}{n-1} \\left[ \\sum^n_{i=0} x_{ij} x_{ji} - n \\mu_j \\mu_i \\right] $$"
   ]
  },
  {
   "cell_type": "markdown",
   "id": "micro-seattle",
   "metadata": {},
   "source": [
    "\n",
    "If we substitute for the summations\n",
    "\n",
    "$$ A_{jk} = \\sum^n_{i=0} {x_{ij} x_{ik}}$$\n",
    "\n",
    "We can write $C_{ij}$ as:\n",
    "\n",
    "$$C_{ij} = \\frac{1}{n-1}\\left[ A_{jk} - n\\mu_j \\mu_i \\right]$$\n",
    "\n"
   ]
  },
  {
   "cell_type": "code",
   "execution_count": 32,
   "id": "bronze-brake",
   "metadata": {},
   "outputs": [],
   "source": [
    "# Here we are now going to show how to calculate C_ij for a data set\n",
    "import numpy as np\n",
    "\n",
    "X = np.array([\n",
    "      [0.6787,    0.6948,    0.7094],\n",
    "      [0.7577,    0.3171,    0.7547],\n",
    "      [0.7431,    0.9502,    0.2760],\n",
    "      [0.3922,    0.0344,    0.6797],\n",
    "      [0.6555,    0.4387,    0.6551],\n",
    "      [0.1712,    0.3816,    0.1626]])\n",
    "\n",
    "# Where m is the number of dimensions or cols\n",
    "m = 3\n",
    "\n",
    "# Where n is the number of points or rows\n",
    "n = 6"
   ]
  },
  {
   "cell_type": "code",
   "execution_count": 33,
   "id": "alert-transportation",
   "metadata": {},
   "outputs": [
    {
     "name": "stdout",
     "output_type": "stream",
     "text": [
      "[0.5664     0.46946667 0.53958333]\n"
     ]
    }
   ],
   "source": [
    "# We will start by calculating mu or the mean\n",
    "\n",
    "Mu = np.mean(X,axis=0);\n",
    "print(Mu)"
   ]
  },
  {
   "cell_type": "code",
   "execution_count": 34,
   "id": "mechanical-dakota",
   "metadata": {},
   "outputs": [
    {
     "name": "stdout",
     "output_type": "stream",
     "text": [
      "\n",
      "Using our algorithm\n",
      "\n",
      "[[ 0.05497947  0.037775    0.02970302]\n",
      " [ 0.037775    0.10060908 -0.03052289]\n",
      " [ 0.02970302 -0.03052289  0.06393645]]\n",
      "\n",
      "Using numpy\n",
      "\n",
      "[[ 0.05497947  0.037775    0.02970302]\n",
      " [ 0.037775    0.10060908 -0.03052289]\n",
      " [ 0.02970302 -0.03052289  0.06393645]]\n"
     ]
    }
   ],
   "source": [
    "# Now we can calculate C_ij\n",
    "\n",
    "# Here we explicitly calculate the covariance matrix\n",
    "Cov = np.zeros((m,m))\n",
    "for j in range(0,m):\n",
    "    for k in range(j,m):\n",
    "        A_jk = 0.0\n",
    "        for i in range(0,n):\n",
    "            A_jk = A_jk + X[i][j]*X[i][k]\n",
    "        \n",
    "        Cov[j,k] = 1.0/(n-1) * ( A_jk - n*Mu[j]*Mu[k])\n",
    "        Cov[k,j] = Cov[j,k]\n",
    "\n",
    "print(\"\\nUsing our algorithm\\n\")\n",
    "print(Cov)\n",
    "\n",
    "# To be safe we will compare with numpy builtin\n",
    "print(\"\\nUsing numpy\\n\")\n",
    "print(np.cov(X.transpose()))"
   ]
  },
  {
   "cell_type": "markdown",
   "id": "billion-warning",
   "metadata": {},
   "source": [
    "The Question remains how do we correctly append data to our covariance matrix."
   ]
  },
  {
   "cell_type": "code",
   "execution_count": 35,
   "id": "declared-treaty",
   "metadata": {},
   "outputs": [],
   "source": [
    "# We will add the following new set of data\n",
    "\n",
    "X_new = np.array([[0.0318, 0.7952, 0.4984],\n",
    "   [0.2769, 0.1869, 0.9597],\n",
    "   [0.0462, 0.4898, 0.3404],\n",
    "   [0.0971, 0.4456, 0.5853],\n",
    "   [0.8235, 0.6463, 0.2238]])\n",
    "\n",
    "# This is 5 new points\n",
    "n_new = 5\n",
    "\n",
    "# For a total data set of 11 points\n",
    "n_full  = n_new + n"
   ]
  },
  {
   "cell_type": "markdown",
   "id": "governmental-weapon",
   "metadata": {},
   "source": [
    "We will represent the new data with a $'$ and the full data set with a $\\dagger$ symbol.\n",
    "\n",
    "We can start by calcuating a new mean for the total data set:\n",
    "\n",
    "$$ \\mu^{\\dagger}_j = \\frac{1}{n^{\\dagger}} \\sum^{n^{\\dagger}}_{i=0} x^{\\dagger}_{ij} $$\n",
    "\n",
    "But remember we are assuming we don't have the full data set anymore just the covariance matrix and mean of the old data set and the also the new data set, so we can rewrite this as:\n",
    "\n",
    "$$ \\mu^{\\dagger}_{j} = \\frac{1}{n^{\\dagger}} \\left( \\mu_j n + \\sum_{i=0}^{n'} x_{ij} \\right) $$"
   ]
  },
  {
   "cell_type": "code",
   "execution_count": 36,
   "id": "oriental-printer",
   "metadata": {},
   "outputs": [
    {
     "name": "stdout",
     "output_type": "stream",
     "text": [
      "[0.4249     0.48914545 0.53137273]\n"
     ]
    }
   ],
   "source": [
    "Mu_full = 1/(n_full) * ( Mu*n + np.sum(X_new,axis=0))\n",
    "\n",
    "print(Mu_full)"
   ]
  },
  {
   "cell_type": "markdown",
   "id": "bronze-interstate",
   "metadata": {},
   "source": [
    "The next step will be to adjust $ \\mathbf{A_{jk}} $\n",
    "\n",
    "$$ A^\\dagger_{jk} = A_{jk} +  \\sum^{n'}_{i=0} {x'_{ij} x'_{ik}} $$\n",
    "\n",
    "We can get $A_{jk}$ from the old data set by reversing $C_{jk}$ equation:\n",
    "\n",
    "$$ A_{jk} = C_{jk}\\cdot(n-1) + n(\\mu_j\\mu_k) $$"
   ]
  },
  {
   "cell_type": "code",
   "execution_count": 37,
   "id": "through-corpus",
   "metadata": {},
   "outputs": [
    {
     "name": "stdout",
     "output_type": "stream",
     "text": [
      "Our algorithm\n",
      "\n",
      "[[ 0.0981211   0.01732581  0.00371005]\n",
      " [ 0.01732581  0.07169848 -0.0343945 ]\n",
      " [ 0.00371005 -0.0343945   0.06386179]]\n",
      "\n",
      "Full dataset\n",
      "\n",
      "[[0.6787 0.6948 0.7094]\n",
      " [0.7577 0.3171 0.7547]\n",
      " [0.7431 0.9502 0.276 ]\n",
      " [0.3922 0.0344 0.6797]\n",
      " [0.6555 0.4387 0.6551]\n",
      " [0.1712 0.3816 0.1626]\n",
      " [0.0318 0.7952 0.4984]\n",
      " [0.2769 0.1869 0.9597]\n",
      " [0.0462 0.4898 0.3404]\n",
      " [0.0971 0.4456 0.5853]\n",
      " [0.8235 0.6463 0.2238]]\n",
      "\n",
      "Numpy solution\n",
      "\n",
      "[[ 0.0981211   0.01732581  0.00371006]\n",
      " [ 0.01732581  0.07169848 -0.0343945 ]\n",
      " [ 0.00371006 -0.0343945   0.06386179]]\n"
     ]
    }
   ],
   "source": [
    "# A more simplified version we can get rid of B entirely\n",
    "\n",
    "C_full = np.zeros((m,m))\n",
    "for j in range(0,m):\n",
    "    for k in range(0,m):\n",
    "        sum = 0.0\n",
    "        for i in range(0,n_new):\n",
    "            sum = sum + X_new[i][j]*X_new[i][k]\n",
    "        \n",
    "        A_jk = Cov[j][k]*(n-1) + n*Mu[j]*Mu[k]\n",
    "        A_jk_full = A_jk + sum\n",
    "        C_full[j,k] = 1.0/(n_full-1) * ( A_jk_full - Mu_full[j]*Mu_full[k]*n_full)\n",
    "        \n",
    "print(\"Our algorithm\\n\")\n",
    "print(C_full)\n",
    "\n",
    "# And comparing with what numpy would do if it had the full data set we have\n",
    "\n",
    "X_full = np.concatenate((X, X_new))\n",
    "print(\"\\nFull dataset\\n\")\n",
    "print(X_full)\n",
    "print(\"\\nNumpy solution\\n\")\n",
    "print(np.cov(X_full.transpose()))"
   ]
  }
 ],
 "metadata": {
  "kernelspec": {
   "display_name": "Python 3",
   "language": "python",
   "name": "python3"
  },
  "language_info": {
   "codemirror_mode": {
    "name": "ipython",
    "version": 3
   },
   "file_extension": ".py",
   "mimetype": "text/x-python",
   "name": "python",
   "nbconvert_exporter": "python",
   "pygments_lexer": "ipython3",
   "version": "3.8.5"
  }
 },
 "nbformat": 4,
 "nbformat_minor": 5
}
