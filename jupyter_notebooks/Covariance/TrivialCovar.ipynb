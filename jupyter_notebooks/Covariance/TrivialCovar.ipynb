{
 "cells": [
  {
   "cell_type": "markdown",
   "id": "amended-vacation",
   "metadata": {},
   "source": [
    "Covariance Trivial Example"
   ]
  },
  {
   "cell_type": "markdown",
   "id": "physical-intake",
   "metadata": {},
   "source": [
    "$ n $ - number of points\n",
    "\n",
    "$ m $ - number of dimensions\n",
    "\n",
    "$ h, i $ - indices goes over the rows of $X$ \n",
    "\n",
    "$ j, k$ - indices used to go over the columns of $X$\n",
    "\n",
    "$ X = [ x_1, x_2, ..., x_j, ... , x_m ] $\n",
    "\n",
    "What we want is the covariance matrix of $ X^T $\n"
   ]
  },
  {
   "cell_type": "markdown",
   "id": "advance-cooling",
   "metadata": {},
   "source": [
    "$ \\mu_j = \\frac{1}{n} \\sum^n_{i=0} x_{ij} $"
   ]
  },
  {
   "cell_type": "markdown",
   "id": "respiratory-polyester",
   "metadata": {},
   "source": [
    "$ C_{jk} = \\frac{1}{n-1} \\sum^n_{i=0} (x_{ij} - \\mu_j)^T(x_{ik} - \\mu_k)$"
   ]
  },
  {
   "cell_type": "markdown",
   "id": "european-argument",
   "metadata": {},
   "source": [
    "If we were to expand $C_{jk} $ we could separate out different components\n",
    "\n",
    "$$ C_{jk} = \\frac{1}{n-1} \\left[ \\sum^n_{i=0}{x_{ij} x_{ik}} - \\mu_j \\left(\\sum^n_{i=0} {x_{ik}} \\right) - \\left( \\sum^n_{i=0} {x_{ij}} \\right) \\mu_k  + n \\mu_j \\mu_k \\right] $$\n"
   ]
  },
  {
   "cell_type": "markdown",
   "id": "aquatic-south",
   "metadata": {},
   "source": [
    "$$ C_{jk} = \\frac{1}{n-1} \\left[\\sum_{i=0}^n x_{ij}x_{ji} - \\mu_j ( n \\mu_k ) - ( n \\mu_j ) \\mu_{k} + n \\mu_{j} \\mu_{k} \\right] $$"
   ]
  },
  {
   "cell_type": "markdown",
   "id": "painful-carroll",
   "metadata": {},
   "source": [
    "$$ C_{jj} = \\frac{1}{n-1} \\left[ \\sum^n_{i=0} x_{ij} x_{ji} - n \\mu_j \\mu_i \\right] $$"
   ]
  },
  {
   "cell_type": "markdown",
   "id": "optimum-bidding",
   "metadata": {},
   "source": [
    "How do we rewrite this equation to get $A$ from $C_{jk}$"
   ]
  },
  {
   "cell_type": "markdown",
   "id": "micro-seattle",
   "metadata": {},
   "source": [
    "\n",
    "If we substitute for the summations\n",
    "\n",
    "$$ A_{jk} = \\sum^n_{i=0} {x_{ij} x_{ik}}$$\n",
    "\n",
    "Where \n",
    "\n",
    "\\begin{equation} \\mathbf{A} = \\begin{matrix} \n",
    "A_{11} & A_{12} & ...    & A_{1i} & ...    & A_{1m} \\\\\n",
    "A_{21} & A_{22} & ...    & A_{2i} & ...    & A_{2m} \\\\\n",
    "\\vdots & \\vdots & \\ddots & \\vdots & ...    & \\vdots \\\\\n",
    "A_{h1} & A_{h2} & ...    & A_{hi} & ...    & A_{hm} \\\\\n",
    "\\vdots & \\vdots & ...    & \\vdots & \\ddots & \\vdots \\\\\n",
    "A_{m1} & A_{m2} & ...    & A_{mi} & ...    & A_{mm}\n",
    "\\end{matrix}\n",
    "\\end{equation}\n"
   ]
  },
  {
   "cell_type": "markdown",
   "id": "recovered-isolation",
   "metadata": {},
   "source": [
    "We can rewrite the equation as:\n",
    "\n",
    "$$ C_{ij} = \\frac{1}{n-1} \\left[ A_{ij} - n \\mu_i \\mu_j \\right] $$"
   ]
  },
  {
   "cell_type": "code",
   "execution_count": 55,
   "id": "applicable-subsection",
   "metadata": {},
   "outputs": [
    {
     "name": "stdout",
     "output_type": "stream",
     "text": [
      "[[1. 4.]\n",
      " [2. 5.]\n",
      " [3. 6.]]\n"
     ]
    }
   ],
   "source": [
    "import numpy as np\n",
    "\n",
    "dimensions = 2\n",
    "number_pts = 3\n",
    "\n",
    "data = np.array([[1.0, 4.0],[2.0, 5.0],[3.0, 6.0]])\n",
    "print(data)"
   ]
  },
  {
   "cell_type": "code",
   "execution_count": 56,
   "id": "emerging-fruit",
   "metadata": {},
   "outputs": [
    {
     "name": "stdout",
     "output_type": "stream",
     "text": [
      "[[1. 1.]\n",
      " [1. 1.]]\n"
     ]
    }
   ],
   "source": [
    "# Here we show what the correct solution is using numpy's builtin calculation\n",
    "print(np.cov(data.transpose()))"
   ]
  },
  {
   "cell_type": "code",
   "execution_count": 57,
   "id": "educational-flexibility",
   "metadata": {},
   "outputs": [
    {
     "name": "stdout",
     "output_type": "stream",
     "text": [
      "[[14. 32.]\n",
      " [32. 77.]]\n"
     ]
    }
   ],
   "source": [
    "A = np.zeros((dimensions,dimensions))\n",
    "for j in range(0,dimensions):\n",
    "    for k in range(0,dimensions):\n",
    "        sum_var = 0.0\n",
    "        for i in range(0,number_pts):\n",
    "            sum_var = data[i][j]*data[i][k]+sum_var\n",
    "        A[j][k] = sum_var\n",
    "        \n",
    "print(A)"
   ]
  },
  {
   "cell_type": "code",
   "execution_count": 58,
   "id": "miniature-pavilion",
   "metadata": {},
   "outputs": [
    {
     "name": "stdout",
     "output_type": "stream",
     "text": [
      "[2. 5.]\n"
     ]
    }
   ],
   "source": [
    "# Here we are calculating the mean\n",
    "Mu = np.mean(data,axis=0);\n",
    "print(Mu)"
   ]
  },
  {
   "cell_type": "code",
   "execution_count": 59,
   "id": "regulated-football",
   "metadata": {},
   "outputs": [
    {
     "name": "stdout",
     "output_type": "stream",
     "text": [
      "[[1. 1.]\n",
      " [1. 1.]]\n"
     ]
    }
   ],
   "source": [
    "# Here we explicitly calculate the covariance matrix\n",
    "Cov = np.zeros((dimensions,dimensions))\n",
    "for j in range(0,dimensions):\n",
    "    for k in range(0,dimensions):\n",
    "        Cov[j,k] = 1.0/(3-1) * ( A[j,k] - 3*Mu[j]*Mu[k])\n",
    "print(Cov)"
   ]
  }
 ],
 "metadata": {
  "kernelspec": {
   "display_name": "Python 3",
   "language": "python",
   "name": "python3"
  },
  "language_info": {
   "codemirror_mode": {
    "name": "ipython",
    "version": 3
   },
   "file_extension": ".py",
   "mimetype": "text/x-python",
   "name": "python",
   "nbconvert_exporter": "python",
   "pygments_lexer": "ipython3",
   "version": "3.8.5"
  }
 },
 "nbformat": 4,
 "nbformat_minor": 5
}
